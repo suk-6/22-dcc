{
 "cells": [
  {
   "cell_type": "markdown",
   "id": "db7c26a1-3f1a-4782-b497-19a86f9e897b",
   "metadata": {
    "tags": []
   },
   "source": [
    "# 전처리"
   ]
  },
  {
   "cell_type": "code",
   "execution_count": null,
   "id": "45b29f8c-c4ba-42e8-b5a3-b993858546b9",
   "metadata": {},
   "outputs": [],
   "source": [
    "import cv2\n",
    "import numpy as np\n",
    "import matplotlib.pyplot as plt\n",
    "import json\n",
    "from tqdm import tqdm\n",
    "from tqdm import trange"
   ]
  },
  {
   "cell_type": "code",
   "execution_count": null,
   "id": "d75fe168-0d5f-427a-820c-d4cec22ef034",
   "metadata": {},
   "outputs": [],
   "source": [
    "BASE_DIR = \".\""
   ]
  },
  {
   "cell_type": "code",
   "execution_count": null,
   "id": "087a99f5-9271-4144-923d-454c8d15acde",
   "metadata": {},
   "outputs": [],
   "source": [
    "def crop(img_num):\n",
    "    file = f\"{BASE_DIR}/dataset/Item-Image/img{img_num}.jpg\"\n",
    "    img1 = cv2.imread(file)\n",
    "    \n",
    "    # Image Shape\n",
    "    h, w = img1.shape[:2]\n",
    "    h1, h2 = int(h * 0.2), int(h * 0.7)\n",
    "    w1, w2 = int(w * 0.05), int(w * 0.95)\n",
    "    img = img1[h1: h2, w1: w2]\n",
    "    \n",
    "    # Resolution\n",
    "    img = cv2.resize(img, None, fx=0.75, fy=0.75, interpolation=cv2.INTER_AREA)\n",
    "    \n",
    "    # Gray Scale\n",
    "    gray = cv2.cvtColor(img, cv2.COLOR_BGR2GRAY)\n",
    "    \n",
    "    # Adaptive Threshold\n",
    "    img2 = cv2.adaptiveThreshold(gray, 255, cv2.ADAPTIVE_THRESH_GAUSSIAN_C, cv2.THRESH_BINARY, 15, 2)\n",
    "    \n",
    "    #Blur\n",
    "    blur = cv2.medianBlur(img2, 5, dst=None)\n",
    "    \n",
    "    # Add Kernel\n",
    "    kernel = np.ones((3,3),np.uint8)\n",
    "    \n",
    "    # Morphology\n",
    "    closing = cv2.morphologyEx(blur, cv2.MORPH_CLOSE, kernel)\n",
    "    gradient = cv2.morphologyEx(closing, cv2.MORPH_GRADIENT, kernel)\n",
    "    \n",
    "    # 경계값 도출\n",
    "    contours = cv2.findContours(gradient, cv2.RETR_TREE, cv2.CHAIN_APPROX_TC89_L1)[0]\n",
    "\n",
    "    x1 = [] #x-min\n",
    "    y1 = [] #y-min\n",
    "    x2 = [] #x-max\n",
    "    y2 = [] #y-max\n",
    "    for i in range(1, len(contours)):\n",
    "        ret = cv2.boundingRect(contours[i])\n",
    "        x1.append(ret[0])\n",
    "        y1.append(ret[1])\n",
    "        x2.append(ret[0] + ret[2])\n",
    "        y2.append(ret[1] + ret[3])\n",
    "\n",
    "    x1_min = min(x1)\n",
    "    y1_min = min(y1)\n",
    "    x2_max = max(x2)\n",
    "    y2_max = max(y2)\n",
    "    cv2.rectangle(gradient, (x1_min, y1_min), (x2_max, y2_max), (0, 255, 0), 3)\n",
    "\n",
    "    origial_img = gray[y1_min:y2_max, x1_min:x2_max]\n",
    "    crop_img = img2[y1_min:y2_max, x1_min:x2_max]\n",
    "    \n",
    "    crop_img = cv2.resize(crop_img, (32, 32))\n",
    "    \n",
    "    #img_merge = np.hstack((origial_img, crop_img))\n",
    "    \n",
    "    #return img_merge\n",
    "    \n",
    "    return crop_img"
   ]
  },
  {
   "cell_type": "markdown",
   "id": "c9fd0795-02da-4624-bdfc-e9f4eb28b95d",
   "metadata": {},
   "source": [
    "#img resize test\n",
    "img = crop(14)\n",
    "plt.imshow(img, cmap='gray')"
   ]
  },
  {
   "cell_type": "code",
   "execution_count": null,
   "id": "72892249-55b8-4bb1-9ecb-8221095a45ee",
   "metadata": {},
   "outputs": [],
   "source": [
    "def labeling(img_num):\n",
    "    with open(f\"{BASE_DIR}/dataset/Item-Parse_f/img{img_num}.json\", \"r\", encoding=\"utf8\") as f:\n",
    "        contents = f.read()\n",
    "        json_data = json.loads(contents)\n",
    "        #label = json_data[\"category_name\"]\n",
    "        label = json_data[\"category_id\"]\n",
    "        \n",
    "        return label"
   ]
  },
  {
   "cell_type": "code",
   "execution_count": null,
   "id": "ef28ccf3-a943-4b44-89bb-8690ce8aadad",
   "metadata": {},
   "outputs": [],
   "source": [
    "outlier_list = []"
   ]
  },
  {
   "cell_type": "code",
   "execution_count": null,
   "id": "80d93921-097a-4f97-885f-a5841b4ad346",
   "metadata": {},
   "outputs": [],
   "source": [
    "f = open(f\"{BASE_DIR}/outlier.txt\", \"r\")\n",
    "lines = f.readlines()\n",
    "for line in lines:\n",
    "    line = line.strip()\n",
    "    outlier_list.append(int(line))\n",
    "f.close()\n",
    "print(len(outlier_list))"
   ]
  },
  {
   "cell_type": "code",
   "execution_count": null,
   "id": "697c9303-be54-44ab-9ee6-48ac75ec0ef1",
   "metadata": {},
   "outputs": [],
   "source": [
    "def outlier(img_num):\n",
    "    for i in outlier_list:\n",
    "        if i == img_num:\n",
    "            return -1\n",
    "    return 0"
   ]
  },
  {
   "cell_type": "code",
   "execution_count": null,
   "id": "9fc948fc-8e13-4b41-ba5c-383b50e74ce6",
   "metadata": {
    "tags": []
   },
   "outputs": [],
   "source": [
    "def test(count):\n",
    "    for img_num in range(count):\n",
    "        crop_img = crop(img_num)\n",
    "        #print(crop_img)\n",
    "        label = labeling(img_num)\n",
    "\n",
    "        plt.imshow(crop_img, cmap='gray')\n",
    "        plt.title(f'img{img_num} {label}')\n",
    "        plt.show()"
   ]
  },
  {
   "cell_type": "code",
   "execution_count": null,
   "id": "cf7c4084-aadd-4514-8dee-00d7baafde65",
   "metadata": {},
   "outputs": [],
   "source": [
    "def save(img_num): # 이미지 번호를 인자로 받고 크롭, 라벨링 후 파일 저장\n",
    "    img = crop(img_num)\n",
    "    label = labeling(img_num)\n",
    "    if outlier(img_num) == -1:\n",
    "        save_src = f\"{BASE_DIR}/labeling/outlier/{label}/img{img_num}.jpg\"\n",
    "        print(f\"img{img_num} saved, outlier\")\n",
    "    else:\n",
    "        save_src = f\"{BASE_DIR}/labeling/{label}/img{img_num}.jpg\"\n",
    "        print(f\"img{img_num} saved\")\n",
    "    \n",
    "    cv2.imwrite(save_src, img)"
   ]
  },
  {
   "cell_type": "code",
   "execution_count": null,
   "id": "e52488ba-02be-4d7e-968d-4a68f6f0fee7",
   "metadata": {},
   "outputs": [],
   "source": [
    "def save_run(count): #이미지 수를 인자로 받음\n",
    "  for img_num in range(count):\n",
    "    save(img_num)"
   ]
  },
  {
   "cell_type": "code",
   "execution_count": null,
   "id": "dc4c9611-d501-49cc-9416-37a7c7290c8a",
   "metadata": {},
   "outputs": [],
   "source": [
    "# 배열 생성\n",
    "xDatas = []\n",
    "yDatas = []"
   ]
  },
  {
   "cell_type": "code",
   "execution_count": null,
   "id": "dfee1978-5895-47ae-8807-7ec5548a4efe",
   "metadata": {},
   "outputs": [],
   "source": [
    "#배열에 이미지 추가\n",
    "def insertDatas():\n",
    "    for imgNum in trange(30000):\n",
    "        if outlier(imgNum) == -1:\n",
    "            print(f\"img{imgNum} continue\")\n",
    "            continue\n",
    "        img = crop(imgNum)\n",
    "        label = labeling(imgNum)\n",
    "        xDatas.append(img)\n",
    "        yDatas.append(label)"
   ]
  },
  {
   "cell_type": "code",
   "execution_count": null,
   "id": "a95e4676-f02e-4f40-88ec-00f12225a936",
   "metadata": {},
   "outputs": [],
   "source": [
    "insertDatas()\n",
    "\n",
    "#배열을 np 배열로 전환\n",
    "xDatas = np.array(xDatas)\n",
    "yDatas = np.array(yDatas)\n",
    "\n",
    "#np 배열을 파일로 저장\n",
    "np.save(f'{BASE_DIR}/xDatas32_outlier', xDatas)\n",
    "np.save(f'{BASE_DIR}/yDatas_outlier', yDatas)"
   ]
  },
  {
   "cell_type": "code",
   "execution_count": null,
   "id": "2cdf0afe-1665-42ac-b7ac-3fdfe8a3005e",
   "metadata": {},
   "outputs": [],
   "source": [
    "#np 배열 불러오기\n",
    "xDatas = np.load(f'{BASE_DIR}/xDatas32_outlier.npy', allow_pickle=True)\n",
    "yDatas = np.load(f'{BASE_DIR}/yDatas_outlier.npy')\n",
    "\n",
    "#np 배열 개수 로딩\n",
    "print(len(xDatas))\n",
    "print(len(yDatas))"
   ]
  },
  {
   "cell_type": "code",
   "execution_count": null,
   "id": "d14023f5-014a-4c2a-8b85-ee8ba0e56940",
   "metadata": {},
   "outputs": [],
   "source": []
  }
 ],
 "metadata": {
  "kernelspec": {
   "display_name": "Python 3.9.2 64-bit",
   "language": "python",
   "name": "python3"
  },
  "language_info": {
   "codemirror_mode": {
    "name": "ipython",
    "version": 3
   },
   "file_extension": ".py",
   "mimetype": "text/x-python",
   "name": "python",
   "nbconvert_exporter": "python",
   "pygments_lexer": "ipython3",
   "version": "3.9.2"
  },
  "vscode": {
   "interpreter": {
    "hash": "aee8b7b246df8f9039afb4144a1f6fd8d2ca17a180786b69acc140d282b71a49"
   }
  }
 },
 "nbformat": 4,
 "nbformat_minor": 5
}
