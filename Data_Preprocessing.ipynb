{
 "cells": [
  {
   "cell_type": "code",
   "execution_count": 53,
   "id": "47277776-44f4-4f44-abc1-7d73642052b9",
   "metadata": {},
   "outputs": [
    {
     "name": "stdout",
     "output_type": "stream",
     "text": [
      "[name: \"/device:CPU:0\"\n",
      "device_type: \"CPU\"\n",
      "memory_limit: 268435456\n",
      "locality {\n",
      "}\n",
      "incarnation: 14535310914004627458\n",
      "xla_global_id: -1\n",
      ", name: \"/device:GPU:0\"\n",
      "device_type: \"GPU\"\n",
      "memory_limit: 7807696896\n",
      "locality {\n",
      "  bus_id: 1\n",
      "  links {\n",
      "  }\n",
      "}\n",
      "incarnation: 4081328056383378737\n",
      "physical_device_desc: \"device: 0, name: NVIDIA GeForce RTX 3080, pci bus id: 0000:01:00.0, compute capability: 8.6\"\n",
      "xla_global_id: 416903419\n",
      "]\n"
     ]
    }
   ],
   "source": [
    "from tensorflow.python.client import device_lib\n",
    "\n",
    "print(device_lib.list_local_devices())"
   ]
  },
  {
   "cell_type": "markdown",
   "id": "db7c26a1-3f1a-4782-b497-19a86f9e897b",
   "metadata": {
    "tags": []
   },
   "source": [
    "# 전처리"
   ]
  },
  {
   "cell_type": "code",
   "execution_count": 54,
   "id": "45b29f8c-c4ba-42e8-b5a3-b993858546b9",
   "metadata": {},
   "outputs": [],
   "source": [
    "import cv2\n",
    "import numpy as np\n",
    "import matplotlib.pyplot as plt\n",
    "import json"
   ]
  },
  {
   "cell_type": "code",
   "execution_count": 55,
   "id": "d75fe168-0d5f-427a-820c-d4cec22ef034",
   "metadata": {},
   "outputs": [],
   "source": [
    "BASE_DIR = \".\""
   ]
  },
  {
   "cell_type": "code",
   "execution_count": 56,
   "id": "087a99f5-9271-4144-923d-454c8d15acde",
   "metadata": {},
   "outputs": [],
   "source": [
    "def crop(img_num):\n",
    "    file = f\"{BASE_DIR}/dataset/Item-Image/img{img_num}.jpg\"\n",
    "    img1 = cv2.imread(file)\n",
    "    \n",
    "    # Image Shape\n",
    "    h, w = img1.shape[:2]\n",
    "    h1, h2 = int(h * 0.2), int(h * 0.7)\n",
    "    w1, w2 = int(w * 0.05), int(w * 0.95)\n",
    "    img = img1[h1: h2, w1: w2]\n",
    "    \n",
    "    # Resolution\n",
    "    img = cv2.resize(img, None, fx=0.75, fy=0.75, interpolation=cv2.INTER_AREA)\n",
    "    \n",
    "    # Gray Scale\n",
    "    gray = cv2.cvtColor(img, cv2.COLOR_BGR2GRAY)\n",
    "    \n",
    "    # Adaptive Threshold\n",
    "    img2 = cv2.adaptiveThreshold(gray, 255, cv2.ADAPTIVE_THRESH_GAUSSIAN_C, cv2.THRESH_BINARY, 15, 2)\n",
    "    \n",
    "    #Blur\n",
    "    blur = cv2.medianBlur(img2, 5, dst=None)\n",
    "    \n",
    "    # Add Kernel\n",
    "    kernel = np.ones((3,3),np.uint8)\n",
    "    \n",
    "    # Morphology\n",
    "    closing = cv2.morphologyEx(blur, cv2.MORPH_CLOSE, kernel)\n",
    "    gradient = cv2.morphologyEx(closing, cv2.MORPH_GRADIENT, kernel)\n",
    "    \n",
    "    # 경계값 도출\n",
    "    contours = cv2.findContours(gradient, cv2.RETR_TREE, cv2.CHAIN_APPROX_TC89_L1)[0]\n",
    "\n",
    "    x1 = [] #x-min\n",
    "    y1 = [] #y-min\n",
    "    x2 = [] #x-max\n",
    "    y2 = [] #y-max\n",
    "    for i in range(1, len(contours)):\n",
    "        ret = cv2.boundingRect(contours[i])\n",
    "        x1.append(ret[0])\n",
    "        y1.append(ret[1])\n",
    "        x2.append(ret[0] + ret[2])\n",
    "        y2.append(ret[1] + ret[3])\n",
    "\n",
    "    x1_min = min(x1)\n",
    "    y1_min = min(y1)\n",
    "    x2_max = max(x2)\n",
    "    y2_max = max(y2)\n",
    "    cv2.rectangle(gradient, (x1_min, y1_min), (x2_max, y2_max), (0, 255, 0), 3)\n",
    "\n",
    "    origial_img = gray[y1_min:y2_max, x1_min:x2_max]\n",
    "    crop_img = img2[y1_min:y2_max, x1_min:x2_max]\n",
    "    \n",
    "    crop_img = cv2.resize(crop_img, (32, 32))\n",
    "    \n",
    "    #img_merge = np.hstack((origial_img, crop_img))\n",
    "    \n",
    "    #return img_merge\n",
    "    \n",
    "    return crop_img"
   ]
  },
  {
   "cell_type": "code",
   "execution_count": 57,
   "id": "72892249-55b8-4bb1-9ecb-8221095a45ee",
   "metadata": {},
   "outputs": [],
   "source": [
    "def labeling(img_num):\n",
    "    with open(f\"{BASE_DIR}/dataset/Item-Parse_f/img{img_num}.json\", \"r\", encoding=\"utf8\") as f:\n",
    "        contents = f.read()\n",
    "        json_data = json.loads(contents)\n",
    "        #label = json_data[\"category_name\"]\n",
    "        label = json_data[\"category_id\"]\n",
    "        \n",
    "        return label"
   ]
  },
  {
   "cell_type": "code",
   "execution_count": 58,
   "id": "9fc948fc-8e13-4b41-ba5c-383b50e74ce6",
   "metadata": {
    "tags": []
   },
   "outputs": [],
   "source": [
    "def test(count):\n",
    "    for img_num in range(count):\n",
    "        crop_img = crop(img_num)\n",
    "        #print(crop_img)\n",
    "        label = labeling(img_num)\n",
    "\n",
    "        plt.imshow(crop_img, cmap='gray')\n",
    "        plt.title(f'img{img_num} {label}')\n",
    "        plt.show()"
   ]
  },
  {
   "cell_type": "code",
   "execution_count": 59,
   "id": "cf7c4084-aadd-4514-8dee-00d7baafde65",
   "metadata": {},
   "outputs": [],
   "source": [
    "def save(img_num): # 이미지 번호를 인자로 받고 크롭, 라벨링 후 파일 저장\n",
    "    img = crop(img_num)\n",
    "    label = labeling(img_num)\n",
    "    save_src = f\"./labeling/{label}/img{img_num}.jpg\"\n",
    "    \n",
    "    cv2.imwrite(save_src, img)"
   ]
  },
  {
   "cell_type": "code",
   "execution_count": 60,
   "id": "e52488ba-02be-4d7e-968d-4a68f6f0fee7",
   "metadata": {},
   "outputs": [],
   "source": [
    "def save_run(count): #이미지 수를 인자로 받음\n",
    "  for img_num in range(count):\n",
    "    save(img_num)\n",
    "    print(f\"img{img_num} saved\")"
   ]
  },
  {
   "cell_type": "markdown",
   "id": "ad61bc48-ab4a-4d95-9d72-d4aa22e8cda4",
   "metadata": {},
   "source": [
    "# 학습코드"
   ]
  },
  {
   "cell_type": "code",
   "execution_count": 61,
   "id": "26ec9503-69c7-4ed4-9e50-1b4ef9e58be2",
   "metadata": {},
   "outputs": [],
   "source": [
    "import os\n",
    "os.environ[\"CUDA_VISIBLE_DEVICES\"] = \"0\"\n",
    "import tensorflow as tf\n",
    "import tensorflow.keras\n",
    "from tensorflow.keras import layers\n",
    "from tensorflow.keras.models import Sequential\n",
    "from tensorflow.keras.layers import Dropout, Flatten, MaxPooling2D\n",
    "from tensorflow.keras.layers import Dense, Conv2D\n",
    "from tqdm import tqdm\n",
    "from tqdm import trange\n",
    "\n",
    "from numba import jit, cuda, prange"
   ]
  },
  {
   "cell_type": "code",
   "execution_count": 62,
   "id": "a3cae363-5820-46bb-b90f-06ae2d363f1d",
   "metadata": {},
   "outputs": [],
   "source": [
    "# gpus = tf.config.experimental.list_physical_devices('GPU')\n",
    "# if gpus:\n",
    "#   try:\n",
    "#     tf.config.experimental.set_virtual_device_configuration(\n",
    "#         gpus[0],\n",
    "#         [tf.config.experimental.VirtualDeviceConfiguration(memory_limit=5 * 1024)])\n",
    "#   except RuntimeError as e:\n",
    "#     print(e)"
   ]
  },
  {
   "cell_type": "code",
   "execution_count": 63,
   "id": "2da2715c-3218-49f9-b972-09f4e6a66b1e",
   "metadata": {},
   "outputs": [],
   "source": [
    "labelTable = [\"cap_and_hat\", \"outerwear\", \"tops\", \"bottoms\", \"shoes\"]"
   ]
  },
  {
   "cell_type": "code",
   "execution_count": 64,
   "id": "dc4c9611-d501-49cc-9416-37a7c7290c8a",
   "metadata": {},
   "outputs": [],
   "source": [
    "xDatas = []\n",
    "yDatas = []"
   ]
  },
  {
   "cell_type": "code",
   "execution_count": 65,
   "id": "dfee1978-5895-47ae-8807-7ec5548a4efe",
   "metadata": {},
   "outputs": [],
   "source": [
    "#@jit(forceobj = True, target_backend=\"cuda\")\n",
    "def insertDatas():\n",
    "    for imgNum in trange(30000):\n",
    "        img = crop(imgNum)\n",
    "        label = labeling(imgNum)\n",
    "        xDatas.append(img)\n",
    "        yDatas.append(label)"
   ]
  },
  {
   "cell_type": "code",
   "execution_count": 66,
   "id": "75a75bb6-2099-45ef-9eec-5e91412aca94",
   "metadata": {},
   "outputs": [
    {
     "name": "stderr",
     "output_type": "stream",
     "text": [
      "100%|████████████████████████████████████████████████████████████████████████████| 30000/30000 [05:35<00:00, 89.35it/s]\n"
     ]
    }
   ],
   "source": [
    "insertDatas()\n",
    "\n",
    "xDatas = np.array(xDatas)\n",
    "yDatas = np.array(yDatas)\n",
    "\n",
    "np.save(f'{BASE_DIR}/xDatas32', xDatas)\n",
    "np.save(f'{BASE_DIR}/yDatas', yDatas)"
   ]
  },
  {
   "cell_type": "code",
   "execution_count": 68,
   "id": "2cdf0afe-1665-42ac-b7ac-3fdfe8a3005e",
   "metadata": {},
   "outputs": [
    {
     "name": "stdout",
     "output_type": "stream",
     "text": [
      "30000\n",
      "30000\n"
     ]
    }
   ],
   "source": [
    "xDatas = np.load(f'{BASE_DIR}/xDatas32.npy')\n",
    "yDatas = np.load(f'{BASE_DIR}/yDatas.npy')\n",
    "\n",
    "print(len(xDatas))\n",
    "print(len(yDatas))"
   ]
  },
  {
   "cell_type": "code",
   "execution_count": 26,
   "id": "9c3223f6-b4c5-4ead-8d88-d80a7ffa2b1c",
   "metadata": {},
   "outputs": [
    {
     "data": {
      "text/plain": [
       "<matplotlib.image.AxesImage at 0x1dd28091610>"
      ]
     },
     "execution_count": 26,
     "metadata": {},
     "output_type": "execute_result"
    },
    {
     "data": {
      "image/png": "[encoded data removed]",
      "text/plain": [
       "<Figure size 640x480 with 1 Axes>"
      ]
     },
     "metadata": {},
     "output_type": "display_data"
    }
   ],
   "source": [
    "img = crop(11)\n",
    "label = labeling(1)\n",
    "plt.imshow(img, cmap='gray')"
   ]
  },
  {
   "cell_type": "code",
   "execution_count": null,
   "id": "67bef63c-a764-422a-85c1-4368cee269dc",
   "metadata": {},
   "outputs": [],
   "source": [
    "from sklearn.model_selection import train_test_split"
   ]
  },
  {
   "cell_type": "code",
   "execution_count": null,
   "id": "a6b57768-a129-40f9-98dc-77b900bb64c5",
   "metadata": {},
   "outputs": [],
   "source": [
    "xTrain, xValidation, yTrain, yValidation = train_test_split(xDatas, yDatas, test_size=0.2, stratify=yDatas, random_state=1120)"
   ]
  },
  {
   "cell_type": "code",
   "execution_count": null,
   "id": "28d4afdc-90cf-4aa5-aa63-2f1f3e09de05",
   "metadata": {},
   "outputs": [],
   "source": [
    "imRows = 128\n",
    "imCols = 128\n",
    "\n",
    "inputShape = (imRows, imCols, 1)"
   ]
  },
  {
   "cell_type": "code",
   "execution_count": null,
   "id": "fede18e6-1912-478a-bad1-99176460ce6f",
   "metadata": {},
   "outputs": [],
   "source": [
    "with tf.device(\"CPU:0\"):\n",
    "    xTrain = tf.convert_to_tensor(xTrain, dtype=tf.float32)\n",
    "    xValidation = tf.convert_to_tensor(xValidation, dtype=tf.float32)\n",
    "    yTrain = tf.one_hot(yTrain, depth=len(np.unique(yTrain)))\n",
    "    yValidation = tf.one_hot(yValidation, depth=len(np.unique(yValidation)))"
   ]
  },
  {
   "cell_type": "code",
   "execution_count": null,
   "id": "7f1b1247-c906-4204-a96c-24f0ec1e4590",
   "metadata": {},
   "outputs": [],
   "source": [
    "print(yTrain[0])"
   ]
  },
  {
   "cell_type": "code",
   "execution_count": null,
   "id": "9aee9950-9d2c-4715-b7c1-33498c39bacc",
   "metadata": {},
   "outputs": [],
   "source": [
    "num_classes = 5   #10개 클래스 기억\n",
    "model = Sequential()   #순차적으로 레이어를 더해주는 명령\n",
    "\n",
    "#첫번째 컨볼루션 레이어\n",
    "#입력 레이어\n",
    "#컨볼루션 레이어의 컨볼루션 연산과 폴링 연산 설정\n",
    "model.add(Conv2D(32, kernel_size=3, activation='relu', kernel_initializer='he_normal', padding=\"valid\",\n",
    "                 input_shape=inputShape))   #서로 다른 64개의 필터를 3x3사이즈로 설정하여 연산함. 이때, 최적화함수는 relu(음수는 0으로 반환), 패딩은 사이즈를 작게 두는 valid 옵션 사용\n",
    "model.add(MaxPooling2D(2))   #폴링필터를 2x2로 설정하여 연산함. MaxPooling2D(2,2)와 같음\n",
    "model.add(Dropout(0.3))   #30%의 노드를 삭제함\n",
    "\n",
    "#두번째 컨볼루션 레이어\n",
    "model.add(Conv2D(64, kernel_size=3, activation='relu', kernel_initializer='he_normal', padding='valid'))\n",
    "model.add(MaxPooling2D(2))\n",
    "model.add(Dropout(0.3))\n",
    "\n",
    "#세번째 컨볼루션 레이어 \n",
    "model.add(Conv2D(128, kernel_size=3, kernel_initializer='he_normal', activation='relu'))\n",
    "model.add(Dropout(0.3))\n",
    "\n",
    "#첫번째 완전 연결(Fully Connected) 레이어\n",
    "model.add(Flatten())   #다차원을 1차원으로 변경해주는 명령\n",
    "\n",
    "#두번째 완전 연결(Fully Connected) 레이어, \n",
    "model.add(Dense(128, kernel_initializer='he_normal', activation='relu'))   #노드의 갯수가 256개인 히든레이어\n",
    "\n",
    "#세번째 완전 연결(Fully Connected) 레이어, \n",
    "model.add(Dense(256, kernel_initializer='he_normal', activation='relu'))\n",
    "\n",
    "#네번째 완전 연결(Fully Connected) 레이어\n",
    "#출력 레이어\n",
    "model.add(Dense(num_classes, activation='softmax'))   #출력 레이어의 노드의 갯수는 분류할 10개 클래스와 같아야 함, softmax() 함수는 학습데이터에 얼마나 가까워졌는지 정도를 보여주는 방법임"
   ]
  },
  {
   "cell_type": "code",
   "execution_count": null,
   "id": "0c42cc6d-f143-4e5a-89ce-e78709954696",
   "metadata": {},
   "outputs": [],
   "source": [
    "model.summary()"
   ]
  },
  {
   "cell_type": "code",
   "execution_count": null,
   "id": "78aae4e2-03c9-4d0f-8449-c58f91022042",
   "metadata": {},
   "outputs": [],
   "source": [
    "#모델 학습방식 환경설정(최적화함수, 손실함수, 평가지표)\n",
    "model.compile(optimizer=\"adam\",\n",
    "              loss=\"categorical_crossentropy\",     \n",
    "              metrics=[\"accuracy\"])"
   ]
  },
  {
   "cell_type": "code",
   "execution_count": null,
   "id": "3d81e8a7-3649-4b92-97aa-7e33181c3275",
   "metadata": {},
   "outputs": [],
   "source": [
    "#모델 학습실행하는 명령\n",
    "with tf.device(\"GPU:0\"):\n",
    "    tracker = model.fit(xTrain, yTrain,\n",
    "                    batch_size=20,\n",
    "                    epochs=50,\n",
    "                    validation_data=(xValidation, yValidation),\n",
    "                    verbose=1)"
   ]
  },
  {
   "cell_type": "code",
   "execution_count": null,
   "id": "ea8f98e4-fa8e-42d8-9fc2-c96e05cb3390",
   "metadata": {},
   "outputs": [],
   "source": []
  }
 ],
 "metadata": {
  "kernelspec": {
   "display_name": "Python 3 (ipykernel)",
   "language": "python",
   "name": "python3"
  },
  "language_info": {
   "codemirror_mode": {
    "name": "ipython",
    "version": 3
   },
   "file_extension": ".py",
   "mimetype": "text/x-python",
   "name": "python",
   "nbconvert_exporter": "python",
   "pygments_lexer": "ipython3",
   "version": "3.9.13"
  }
 },
 "nbformat": 4,
 "nbformat_minor": 5
}
