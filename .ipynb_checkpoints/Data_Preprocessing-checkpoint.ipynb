{
 "cells": [
  {
   "cell_type": "code",
   "execution_count": null,
   "id": "45b29f8c-c4ba-42e8-b5a3-b993858546b9",
   "metadata": {},
   "outputs": [],
   "source": [
    "import cv2\n",
    "import numpy as np\n",
    "import matplotlib.pyplot as plt\n",
    "import json"
   ]
  },
  {
   "cell_type": "code",
   "execution_count": null,
   "id": "087a99f5-9271-4144-923d-454c8d15acde",
   "metadata": {},
   "outputs": [],
   "source": [
    "def crop(img_num):\n",
    "    file = f\"./dataset/Item-Image/img{img_num}.jpg\"\n",
    "    img1 = cv2.imread(file)\n",
    "    \n",
    "    # Image Shape\n",
    "    h, w = img1.shape[:2]\n",
    "    h1, h2 = int(h * 0.2), int(h * 0.7)\n",
    "    w1, w2 = int(w * 0.05), int(w * 0.95)\n",
    "    img = img1[h1: h2, w1: w2]\n",
    "    \n",
    "    # Resolution\n",
    "    img = cv2.resize(img, None, fx=0.75, fy=0.75, interpolation=cv2.INTER_AREA)\n",
    "    \n",
    "    # Gray Scale\n",
    "    gray = cv2.cvtColor(img, cv2.COLOR_BGR2GRAY)\n",
    "    \n",
    "    # Adaptive Threshold\n",
    "    img2 = cv2.adaptiveThreshold(gray, 255, cv2.ADAPTIVE_THRESH_GAUSSIAN_C, cv2.THRESH_BINARY, 15, 2)\n",
    "    \n",
    "    #Blur\n",
    "    blur = cv2.medianBlur(img2, 5, dst=None)\n",
    "    \n",
    "    # Add Kernel\n",
    "    kernel = np.ones((3,3),np.uint8)\n",
    "    \n",
    "    # Morphology\n",
    "    closing = cv2.morphologyEx(blur, cv2.MORPH_CLOSE, kernel)\n",
    "    gradient = cv2.morphologyEx(closing, cv2.MORPH_GRADIENT, kernel)\n",
    "    \n",
    "    # 경계값 도출\n",
    "    contours = cv2.findContours(gradient, cv2.RETR_TREE, cv2.CHAIN_APPROX_TC89_L1)[0]\n",
    "\n",
    "    x1 = [] #x-min\n",
    "    y1 = [] #y-min\n",
    "    x2 = [] #x-max\n",
    "    y2 = [] #y-max\n",
    "    for i in range(1, len(contours)):\n",
    "        ret = cv2.boundingRect(contours[i])\n",
    "        x1.append(ret[0])\n",
    "        y1.append(ret[1])\n",
    "        x2.append(ret[0] + ret[2])\n",
    "        y2.append(ret[1] + ret[3])\n",
    "\n",
    "    x1_min = min(x1)\n",
    "    y1_min = min(y1)\n",
    "    x2_max = max(x2)\n",
    "    y2_max = max(y2)\n",
    "    cv2.rectangle(gradient, (x1_min, y1_min), (x2_max, y2_max), (0, 255, 0), 3)\n",
    "\n",
    "    origial_img = gray[y1_min:y2_max, x1_min:x2_max]\n",
    "    crop_img = img2[y1_min:y2_max, x1_min:x2_max]\n",
    "    \n",
    "    #img_merge = np.hstack((origial_img, crop_img))\n",
    "    \n",
    "    #return img_merge\n",
    "    \n",
    "    return crop_img"
   ]
  },
  {
   "cell_type": "code",
   "execution_count": null,
   "id": "72892249-55b8-4bb1-9ecb-8221095a45ee",
   "metadata": {},
   "outputs": [],
   "source": [
    "def labeling(img_num):\n",
    "    with open(f\"./dataset/Item-Parse_f/img{img_num}.json\", \"r\", encoding=\"utf8\") as f:\n",
    "        contents = f.read()\n",
    "        json_data = json.loads(contents)\n",
    "        #label = json_data[\"category_name\"]\n",
    "        label = json_data[\"category_id\"]\n",
    "        \n",
    "        return label"
   ]
  },
  {
   "cell_type": "code",
   "execution_count": null,
   "id": "9fc948fc-8e13-4b41-ba5c-383b50e74ce6",
   "metadata": {
    "tags": []
   },
   "outputs": [],
   "source": [
    "def test(count):\n",
    "    for img_num in range(count):\n",
    "        crop_img = crop(img_num)\n",
    "        label = labeling(img_num)\n",
    "\n",
    "        plt.imshow(crop_img, cmap='gray')\n",
    "        plt.title(f'img{img_num} '+label)\n",
    "        plt.show()"
   ]
  },
  {
   "cell_type": "code",
   "execution_count": null,
   "id": "cf7c4084-aadd-4514-8dee-00d7baafde65",
   "metadata": {},
   "outputs": [],
   "source": [
    "def file_save(img_num):\n",
    "    img = crop(img_num)\n",
    "    label = labeling(img_num)\n",
    "    save_src = f\"./labeling/{label}/img{img_num}.jpg\"\n",
    "    \n",
    "    cv2.imwrite(save_src, img)"
   ]
  },
  {
   "cell_type": "code",
   "execution_count": null,
   "id": "e52488ba-02be-4d7e-968d-4a68f6f0fee7",
   "metadata": {},
   "outputs": [],
   "source": [
    "for img_num in range(30000):\n",
    "    file_save(img_num)\n",
    "    print(f\"img{img_num} saved\")"
   ]
  }
 ],
 "metadata": {
  "kernelspec": {
   "display_name": "Python 3",
   "language": "python",
   "name": "python3"
  },
  "language_info": {
   "codemirror_mode": {
    "name": "ipython",
    "version": 3
   },
   "file_extension": ".py",
   "mimetype": "text/x-python",
   "name": "python",
   "nbconvert_exporter": "python",
   "pygments_lexer": "ipython3",
   "version": "3.8.8"
  }
 },
 "nbformat": 4,
 "nbformat_minor": 5
}
